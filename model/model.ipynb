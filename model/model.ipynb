{
 "cells": [
  {
   "cell_type": "code",
   "execution_count": 3,
   "metadata": {},
   "outputs": [],
   "source": [
    "import torch\n",
    "from torch.utils.data import DataLoader, TensorDataset\n",
    "import torch.nn as nn\n",
    "from torch.nn import functional as F\n",
    "from dataclasses import dataclass\n",
    "import os\n",
    "import sys\n",
    "import pandas as pd\n",
    "import re\n",
    "sys.path.append('..')\n",
    "from utils.amc_parser import parse_motion_file, Motion, MotionFrame\n"
   ]
  },
  {
   "cell_type": "code",
   "execution_count": 2,
   "metadata": {},
   "outputs": [
    {
     "data": {
      "text/plain": [
       "<torch._C.Generator at 0x7bb6143326d0>"
      ]
     },
     "execution_count": 2,
     "metadata": {},
     "output_type": "execute_result"
    }
   ],
   "source": [
    "torch.manual_seed(0)"
   ]
  },
  {
   "cell_type": "code",
   "execution_count": 19,
   "metadata": {},
   "outputs": [],
   "source": [
    "@dataclass\n",
    "class PoseFlowConfig:\n",
    "    block_size: int = 50\n",
    "    frame_rate: int = 10\n",
    "    max_iters: int = 5000\n",
    "    n_embd: int = 256\n",
    "    feature_length: int = 56\n",
    "    n_layer: int = 12  \n",
    "    n_head: int = 8\n",
    "    dropout: float = 0.2\n",
    "    device: str = 'cpu' if torch.cuda.is_available() else 'cpu'\n",
    "    batch_size: int = 64\n",
    "    lr: float = 1e-4\n",
    "\n",
    "\n",
    "config = PoseFlowConfig()"
   ]
  },
  {
   "cell_type": "code",
   "execution_count": 20,
   "metadata": {},
   "outputs": [],
   "source": [
    "\n",
    "class Block(nn.Module):\n",
    "    def __init__(self):\n",
    "        super().__init__()\n",
    "        self.ln_1 = nn.LayerNorm(config.n_embd)\n",
    "        self.ln_2 = nn.LayerNorm(config.n_embd)\n",
    "        self.mlp = nn.Sequential(\n",
    "            nn.Linear(config.n_embd, 4 * config.n_embd),\n",
    "            nn.GELU(),\n",
    "            nn.Linear(4 * config.n_embd, config.n_embd),\n",
    "            nn.Dropout(config.dropout),\n",
    "        )\n",
    "        self.attn = nn.MultiheadAttention(config.n_embd, config.n_head, config.dropout)\n",
    "\n",
    "\n",
    "    def forward(self,x):\n",
    "        x = x + self.attn(self.ln_1(x), self.ln_1(x), self.ln_1(x))[0]\n",
    "        x = x + self.mlp(self.ln_2(x))\n",
    "        return x\n",
    "\n",
    "\n",
    "class PoseFlowModel(nn.Module):\n",
    "    def __init__(self):\n",
    "        super().__init__()\n",
    "        self.config = config\n",
    "        self.pose_encoder = nn.Linear(config.feature_length, config.n_embd)\n",
    "        self.position_embedding = nn.Embedding(config.block_size, config.n_embd)\n",
    "        self.blocks = nn.Sequential(*[Block() for _ in range(config.n_layer)])\n",
    "        self.ln_f = nn.LayerNorm(config.n_embd)\n",
    "        self.lm_head = nn.Linear(config.n_embd, config.feature_length)\n",
    "        \n",
    "        self.apply(self._init_weights)\n",
    "    \n",
    "    def _init_weights(self, module):\n",
    "        if isinstance(module, nn.Linear):\n",
    "            torch.nn.init.normal_(module.weight, mean=0.0, std=0.02)\n",
    "            if module.bias is not None:\n",
    "                torch.nn.init.zeros_(module.bias)\n",
    "        elif isinstance(module, nn.Embedding):\n",
    "            torch.nn.init.normal_(module.weight, mean=0.0, std=0.02)\n",
    "\n",
    "    def forward(self, x):\n",
    "        B, T, C = x.shape\n",
    "        pose_emb = self.pose_encoder(x)\n",
    "        pos_emb = self.position_embedding(torch.arange(T, device=config.device))\n",
    "        x = pose_emb + pos_emb\n",
    "        x = self.blocks(x)\n",
    "        x = self.ln_f(x)\n",
    "        logits = self.lm_head(x)\n",
    "        return logits\n",
    "    \n",
    "    def generate(self, x, n_frames):\n",
    "        ...\n",
    "\n",
    "    def stream(self, x):\n",
    "        # x: B, T, C\n",
    "        while True:\n",
    "            x = x[:, -config.block_size:, :]\n",
    "            logits = self.forward(x)\n",
    "            last_frame = logits[:, -1, :]\n",
    "            x = torch.cat([x, last_frame.unsqueeze(0)], dim=1)\n",
    "            yield last_frame\n",
    "\n",
    "    def fit(self, input):\n",
    "        optimizer = torch.optim.Adam(self.parameters(), lr=config.lr)\n",
    "        for iter in range(config.max_iters):\n",
    "            iter_losses = []\n",
    "            for j, batch in enumerate(input):\n",
    "                x = batch[0]\n",
    "                losses = []\n",
    "                for i in range(config.block_size):\n",
    "                    xb = x[:, :i + 1, :]\n",
    "                    yb = x[:, i + 1, :]\n",
    "                    logits = self.forward(xb)[:,-1,:]\n",
    "                    loss = F.mse_loss(logits, yb)\n",
    "                    losses.append(loss.item())\n",
    "                    optimizer.zero_grad(set_to_none=True)\n",
    "                    loss.backward()\n",
    "                    optimizer.step()\n",
    "                iter_losses.append(sum(losses)/len(losses))\n",
    "            print(f'Iter {iter}, Loss: {sum(iter_losses)/len(iter_losses)}')\n",
    "\n",
    "\n",
    "\n"
   ]
  },
  {
   "cell_type": "code",
   "execution_count": 21,
   "metadata": {},
   "outputs": [
    {
     "data": {
      "text/plain": [
       "'cpu'"
      ]
     },
     "execution_count": 21,
     "metadata": {},
     "output_type": "execute_result"
    }
   ],
   "source": [
    "config.device"
   ]
  },
  {
   "cell_type": "code",
   "execution_count": 22,
   "metadata": {},
   "outputs": [
    {
     "name": "stdout",
     "output_type": "stream",
     "text": [
      "9519416\n"
     ]
    }
   ],
   "source": [
    "model = PoseFlowModel().to(config.device)\n",
    "\n",
    "a = torch.randn(1, 3, config.feature_length)\n",
    "\n",
    "total_el = 0\n",
    "\n",
    "for parameter in model.parameters():\n",
    "    total_el += parameter.numel()\n",
    "print(total_el)"
   ]
  },
  {
   "cell_type": "code",
   "execution_count": null,
   "metadata": {},
   "outputs": [],
   "source": [
    "for parameter in model.parameters():\n",
    "    total_el += parameter.numel()\n",
    "print(total_el)"
   ]
  },
  {
   "cell_type": "code",
   "execution_count": null,
   "metadata": {},
   "outputs": [],
   "source": [
    "model.train()\n",
    "model.fit(DataLoader(TensorDataset(data.to(config.device)), batch_size=config.batch_size))\n",
    "# model = torch.load(\"model.bin\")"
   ]
  },
  {
   "cell_type": "code",
   "execution_count": null,
   "metadata": {},
   "outputs": [],
   "source": [
    "data = torch.load(\"data.bin\")"
   ]
  },
  {
   "cell_type": "code",
   "execution_count": 27,
   "metadata": {},
   "outputs": [
    {
     "data": {
      "text/plain": [
       "<All keys matched successfully>"
      ]
     },
     "execution_count": 27,
     "metadata": {},
     "output_type": "execute_result"
    }
   ],
   "source": [
    "model.load_state_dict(torch.load(\"model.pth\", config.device))"
   ]
  },
  {
   "cell_type": "code",
   "execution_count": 34,
   "metadata": {},
   "outputs": [],
   "source": [
    "generated_motion = []\n",
    "\n",
    "model.eval()\n",
    "for (pose, _) in zip(model.stream(data[3, 0:1].unsqueeze(0).to(config.device)), range(600)):\n",
    "    generated_motion.append(to_motion_frame(pose.squeeze(0)))\n",
    "    "
   ]
  },
  {
   "cell_type": "code",
   "execution_count": 24,
   "metadata": {},
   "outputs": [
    {
     "name": "stdout",
     "output_type": "stream",
     "text": [
      "pygame 2.5.2 (SDL 2.28.2, Python 3.12.3)\n",
      "Hello from the pygame community. https://www.pygame.org/contribute.html\n"
     ]
    }
   ],
   "source": [
    "from amc_parser.amc_parser import parse_amc, parse_asf\n",
    "from amc_parser.viewer import Viewer"
   ]
  },
  {
   "cell_type": "code",
   "execution_count": 37,
   "metadata": {},
   "outputs": [
    {
     "ename": "KeyboardInterrupt",
     "evalue": "",
     "output_type": "error",
     "traceback": [
      "\u001b[0;31m---------------------------------------------------------------------------\u001b[0m",
      "\u001b[0;31mKeyboardInterrupt\u001b[0m                         Traceback (most recent call last)",
      "Cell \u001b[0;32mIn[37], line 4\u001b[0m\n\u001b[1;32m      1\u001b[0m asf \u001b[38;5;241m=\u001b[39m parse_asf(os\u001b[38;5;241m.\u001b[39mpath\u001b[38;5;241m.\u001b[39mjoin(data_dir, \u001b[38;5;124m'\u001b[39m\u001b[38;5;124m01/01.asf\u001b[39m\u001b[38;5;124m'\u001b[39m))\n\u001b[1;32m      3\u001b[0m viewer \u001b[38;5;241m=\u001b[39m Viewer(asf, generated_motion)\n\u001b[0;32m----> 4\u001b[0m \u001b[43mviewer\u001b[49m\u001b[38;5;241;43m.\u001b[39;49m\u001b[43mrun\u001b[49m\u001b[43m(\u001b[49m\u001b[43m)\u001b[49m\n",
      "File \u001b[0;32m~/Projects/human_pose_synthesis/model/../amc_parser/viewer.py:236\u001b[0m, in \u001b[0;36mViewer.run\u001b[0;34m(self)\u001b[0m\n\u001b[1;32m    232\u001b[0m   pygame\u001b[38;5;241m.\u001b[39mdisplay\u001b[38;5;241m.\u001b[39mset_caption(\n\u001b[1;32m    233\u001b[0m     \u001b[38;5;124m'\u001b[39m\u001b[38;5;124mAMC Parser - frame \u001b[39m\u001b[38;5;132;01m%d\u001b[39;00m\u001b[38;5;124m / \u001b[39m\u001b[38;5;132;01m%d\u001b[39;00m\u001b[38;5;124m'\u001b[39m \u001b[38;5;241m%\u001b[39m (\u001b[38;5;28mself\u001b[39m\u001b[38;5;241m.\u001b[39mframe, \u001b[38;5;28mlen\u001b[39m(\u001b[38;5;28mself\u001b[39m\u001b[38;5;241m.\u001b[39mmotions))\n\u001b[1;32m    234\u001b[0m   )\n\u001b[1;32m    235\u001b[0m   pygame\u001b[38;5;241m.\u001b[39mdisplay\u001b[38;5;241m.\u001b[39mflip()\n\u001b[0;32m--> 236\u001b[0m   \u001b[38;5;28;43mself\u001b[39;49m\u001b[38;5;241;43m.\u001b[39;49m\u001b[43mclock\u001b[49m\u001b[38;5;241;43m.\u001b[39;49m\u001b[43mtick\u001b[49m\u001b[43m(\u001b[49m\u001b[38;5;28;43mself\u001b[39;49m\u001b[38;5;241;43m.\u001b[39;49m\u001b[43mfps\u001b[49m\u001b[43m)\u001b[49m\n\u001b[1;32m    237\u001b[0m pygame\u001b[38;5;241m.\u001b[39mquit()\n",
      "\u001b[0;31mKeyboardInterrupt\u001b[0m: "
     ]
    },
    {
     "ename": "",
     "evalue": "",
     "output_type": "error",
     "traceback": [
      "\u001b[1;31mThe Kernel crashed while executing code in the current cell or a previous cell. \n",
      "\u001b[1;31mPlease review the code in the cell(s) to identify a possible cause of the failure. \n",
      "\u001b[1;31mClick <a href='https://aka.ms/vscodeJupyterKernelCrash'>here</a> for more info. \n",
      "\u001b[1;31mView Jupyter <a href='command:jupyter.viewOutput'>log</a> for further details."
     ]
    }
   ],
   "source": [
    "asf = parse_asf(os.path.join(data_dir, '01/01.asf'))\n",
    "\n",
    "viewer = Viewer(asf, generated_motion)\n",
    "viewer.run()"
   ]
  },
  {
   "cell_type": "code",
   "execution_count": 8,
   "metadata": {},
   "outputs": [],
   "source": [
    "skeleton_structure = {\n",
    "    # \"root\": 6,\n",
    "    \"lowerback\": 3,\n",
    "    \"upperback\": 3,\n",
    "    \"thorax\": 3,\n",
    "    \"lowerneck\": 3,\n",
    "    \"upperneck\": 3,\n",
    "    \"head\": 3,\n",
    "    \"rclavicle\": 2,\n",
    "    \"rhumerus\": 3,\n",
    "    \"rradius\": 1,\n",
    "    \"rwrist\": 1,\n",
    "    \"rhand\": 2,\n",
    "    \"rfingers\": 1,\n",
    "    \"rthumb\": 2,\n",
    "    \"lclavicle\": 2,\n",
    "    \"lhumerus\": 3,\n",
    "    \"lradius\": 1,\n",
    "    \"lwrist\": 1,\n",
    "    \"lhand\": 2,\n",
    "    \"lfingers\": 1,\n",
    "    \"lthumb\": 2,\n",
    "    \"rfemur\": 3,\n",
    "    \"rtibia\": 1,\n",
    "    \"rfoot\": 2,\n",
    "    \"rtoes\": 1,\n",
    "    \"lfemur\": 3,\n",
    "    \"ltibia\": 1,\n",
    "    \"lfoot\": 2,\n",
    "    \"ltoes\": 1\n",
    "}"
   ]
  },
  {
   "cell_type": "code",
   "execution_count": 9,
   "metadata": {},
   "outputs": [],
   "source": [
    "def to_tensor(motion: Motion):\n",
    "    return torch.tensor([[channel for bone in skeleton_structure for channel in frame[bone]] for frame in motion.frames])\n"
   ]
  },
  {
   "cell_type": "code",
   "execution_count": 10,
   "metadata": {},
   "outputs": [],
   "source": [
    "def to_motion(tensor: torch.Tensor) -> Motion:\n",
    "    #tensor = (T, C = 62)    \n",
    "    motion = Motion()\n",
    "    motion.frame_rate = config.frame_rate\n",
    "\n",
    "    motion.frames = [to_motion_frame(i)   for i in tensor]\n",
    "    return motion\n",
    "\n",
    "\n",
    "def to_motion_frame(tensor: torch.Tensor) -> MotionFrame:\n",
    "    motion_frame = {}\n",
    "    motion_frame['root'] = [0] * 6\n",
    "    idx = 0 \n",
    "    for bone, size in skeleton_structure.items():\n",
    "        motion_frame[bone] =  tensor[idx: idx + size].tolist()\n",
    "        idx += size\n",
    "    return motion_frame\n"
   ]
  },
  {
   "cell_type": "code",
   "execution_count": 11,
   "metadata": {},
   "outputs": [],
   "source": [
    "data_dir = '../all_asfamc/subjects'\n",
    "raw_metadata_location = '../all_asfamc/mocap-index.html'"
   ]
  },
  {
   "cell_type": "code",
   "execution_count": 12,
   "metadata": {},
   "outputs": [
    {
     "data": {
      "text/html": [
       "<div>\n",
       "<style scoped>\n",
       "    .dataframe tbody tr th:only-of-type {\n",
       "        vertical-align: middle;\n",
       "    }\n",
       "\n",
       "    .dataframe tbody tr th {\n",
       "        vertical-align: top;\n",
       "    }\n",
       "\n",
       "    .dataframe thead th {\n",
       "        text-align: right;\n",
       "    }\n",
       "</style>\n",
       "<table border=\"1\" class=\"dataframe\">\n",
       "  <thead>\n",
       "    <tr style=\"text-align: right;\">\n",
       "      <th></th>\n",
       "      <th>0</th>\n",
       "      <th>1</th>\n",
       "      <th>2</th>\n",
       "      <th>3</th>\n",
       "      <th>4</th>\n",
       "      <th>5</th>\n",
       "      <th>6</th>\n",
       "      <th>7</th>\n",
       "      <th>8</th>\n",
       "      <th>9</th>\n",
       "    </tr>\n",
       "  </thead>\n",
       "  <tbody>\n",
       "    <tr>\n",
       "      <th>0</th>\n",
       "      <td>NaN</td>\n",
       "      <td>NaN</td>\n",
       "      <td>NaN</td>\n",
       "      <td>NaN</td>\n",
       "      <td>NaN</td>\n",
       "      <td>NaN</td>\n",
       "      <td>NaN</td>\n",
       "      <td>NaN</td>\n",
       "      <td>NaN</td>\n",
       "      <td>NaN</td>\n",
       "    </tr>\n",
       "    <tr>\n",
       "      <th>1</th>\n",
       "      <td>Subject #1 (climb, swing, hang on playground e...</td>\n",
       "      <td>Subject #1 (climb, swing, hang on playground e...</td>\n",
       "      <td>Subject #1 (climb, swing, hang on playground e...</td>\n",
       "      <td>- - asf</td>\n",
       "      <td>- - asf</td>\n",
       "      <td>- - asf</td>\n",
       "      <td>- - asf</td>\n",
       "      <td>- - asf</td>\n",
       "      <td>framerate</td>\n",
       "      <td>Feedback</td>\n",
       "    </tr>\n",
       "    <tr>\n",
       "      <th>2</th>\n",
       "      <td>Image</td>\n",
       "      <td>Trial #</td>\n",
       "      <td>Motion Description</td>\n",
       "      <td>NaN</td>\n",
       "      <td>NaN</td>\n",
       "      <td>NaN</td>\n",
       "      <td>NaN</td>\n",
       "      <td>NaN</td>\n",
       "      <td>NaN</td>\n",
       "      <td>NaN</td>\n",
       "    </tr>\n",
       "    <tr>\n",
       "      <th>3</th>\n",
       "      <td>NaN</td>\n",
       "      <td>1</td>\n",
       "      <td>playground - forward jumps, turn around</td>\n",
       "      <td>tvd</td>\n",
       "      <td>c3d</td>\n",
       "      <td>amc</td>\n",
       "      <td>mpg</td>\n",
       "      <td>Animated</td>\n",
       "      <td>120</td>\n",
       "      <td>Feedback</td>\n",
       "    </tr>\n",
       "    <tr>\n",
       "      <th>4</th>\n",
       "      <td>NaN</td>\n",
       "      <td>2</td>\n",
       "      <td>playground - climb</td>\n",
       "      <td>tvd</td>\n",
       "      <td>c3d</td>\n",
       "      <td>amc</td>\n",
       "      <td>mpg</td>\n",
       "      <td>Animated</td>\n",
       "      <td>120</td>\n",
       "      <td>Feedback</td>\n",
       "    </tr>\n",
       "    <tr>\n",
       "      <th>...</th>\n",
       "      <td>...</td>\n",
       "      <td>...</td>\n",
       "      <td>...</td>\n",
       "      <td>...</td>\n",
       "      <td>...</td>\n",
       "      <td>...</td>\n",
       "      <td>...</td>\n",
       "      <td>...</td>\n",
       "      <td>...</td>\n",
       "      <td>...</td>\n",
       "    </tr>\n",
       "    <tr>\n",
       "      <th>2757</th>\n",
       "      <td>NaN</td>\n",
       "      <td>30</td>\n",
       "      <td>Sun Salutation</td>\n",
       "      <td>NaN</td>\n",
       "      <td>c3d</td>\n",
       "      <td>amc</td>\n",
       "      <td>NaN</td>\n",
       "      <td>NaN</td>\n",
       "      <td>120</td>\n",
       "      <td>Feedback</td>\n",
       "    </tr>\n",
       "    <tr>\n",
       "      <th>2758</th>\n",
       "      <td>NaN</td>\n",
       "      <td>31</td>\n",
       "      <td>Sun Salutation001</td>\n",
       "      <td>NaN</td>\n",
       "      <td>c3d</td>\n",
       "      <td>amc</td>\n",
       "      <td>NaN</td>\n",
       "      <td>NaN</td>\n",
       "      <td>120</td>\n",
       "      <td>Feedback</td>\n",
       "    </tr>\n",
       "    <tr>\n",
       "      <th>2759</th>\n",
       "      <td>NaN</td>\n",
       "      <td>32</td>\n",
       "      <td>Sun Salutation002</td>\n",
       "      <td>NaN</td>\n",
       "      <td>c3d</td>\n",
       "      <td>amc</td>\n",
       "      <td>NaN</td>\n",
       "      <td>NaN</td>\n",
       "      <td>120</td>\n",
       "      <td>Feedback</td>\n",
       "    </tr>\n",
       "    <tr>\n",
       "      <th>2760</th>\n",
       "      <td>NaN</td>\n",
       "      <td>33</td>\n",
       "      <td>Walking</td>\n",
       "      <td>NaN</td>\n",
       "      <td>c3d</td>\n",
       "      <td>amc</td>\n",
       "      <td>NaN</td>\n",
       "      <td>NaN</td>\n",
       "      <td>120</td>\n",
       "      <td>Feedback</td>\n",
       "    </tr>\n",
       "    <tr>\n",
       "      <th>2761</th>\n",
       "      <td>NaN</td>\n",
       "      <td>34</td>\n",
       "      <td>Walking001</td>\n",
       "      <td>NaN</td>\n",
       "      <td>c3d</td>\n",
       "      <td>amc</td>\n",
       "      <td>NaN</td>\n",
       "      <td>NaN</td>\n",
       "      <td>120</td>\n",
       "      <td>Feedback</td>\n",
       "    </tr>\n",
       "  </tbody>\n",
       "</table>\n",
       "<p>2762 rows × 10 columns</p>\n",
       "</div>"
      ],
      "text/plain": [
       "                                                      0  \\\n",
       "0                                                   NaN   \n",
       "1     Subject #1 (climb, swing, hang on playground e...   \n",
       "2                                                 Image   \n",
       "3                                                   NaN   \n",
       "4                                                   NaN   \n",
       "...                                                 ...   \n",
       "2757                                                NaN   \n",
       "2758                                                NaN   \n",
       "2759                                                NaN   \n",
       "2760                                                NaN   \n",
       "2761                                                NaN   \n",
       "\n",
       "                                                      1  \\\n",
       "0                                                   NaN   \n",
       "1     Subject #1 (climb, swing, hang on playground e...   \n",
       "2                                               Trial #   \n",
       "3                                                     1   \n",
       "4                                                     2   \n",
       "...                                                 ...   \n",
       "2757                                                 30   \n",
       "2758                                                 31   \n",
       "2759                                                 32   \n",
       "2760                                                 33   \n",
       "2761                                                 34   \n",
       "\n",
       "                                                      2        3        4  \\\n",
       "0                                                   NaN      NaN      NaN   \n",
       "1     Subject #1 (climb, swing, hang on playground e...  - - asf  - - asf   \n",
       "2                                    Motion Description      NaN      NaN   \n",
       "3               playground - forward jumps, turn around      tvd      c3d   \n",
       "4                                    playground - climb      tvd      c3d   \n",
       "...                                                 ...      ...      ...   \n",
       "2757                                     Sun Salutation      NaN      c3d   \n",
       "2758                                  Sun Salutation001      NaN      c3d   \n",
       "2759                                  Sun Salutation002      NaN      c3d   \n",
       "2760                                            Walking      NaN      c3d   \n",
       "2761                                         Walking001      NaN      c3d   \n",
       "\n",
       "            5        6         7          8         9  \n",
       "0         NaN      NaN       NaN        NaN       NaN  \n",
       "1     - - asf  - - asf   - - asf  framerate  Feedback  \n",
       "2         NaN      NaN       NaN        NaN       NaN  \n",
       "3         amc      mpg  Animated        120  Feedback  \n",
       "4         amc      mpg  Animated        120  Feedback  \n",
       "...       ...      ...       ...        ...       ...  \n",
       "2757      amc      NaN       NaN        120  Feedback  \n",
       "2758      amc      NaN       NaN        120  Feedback  \n",
       "2759      amc      NaN       NaN        120  Feedback  \n",
       "2760      amc      NaN       NaN        120  Feedback  \n",
       "2761      amc      NaN       NaN        120  Feedback  \n",
       "\n",
       "[2762 rows x 10 columns]"
      ]
     },
     "execution_count": 12,
     "metadata": {},
     "output_type": "execute_result"
    }
   ],
   "source": [
    "raw_metadata = pd.read_html(raw_metadata_location)[5]\n",
    "raw_metadata"
   ]
  },
  {
   "cell_type": "code",
   "execution_count": 13,
   "metadata": {},
   "outputs": [],
   "source": [
    "@dataclass\n",
    "class MotionInfo:\n",
    "    frame_rate: int\n",
    "    description: str\n",
    "\n",
    "metadata: dict[str, dict[str, MotionInfo]] = {}\n",
    "current_subject = None\n",
    "for row in range(raw_metadata.shape[0]):\n",
    "    subject = raw_metadata.iloc[row, 0]\n",
    "    if isinstance(subject, str):\n",
    "        match = re.search(r\"Subject #(\\d+)\", subject)\n",
    "        if match:\n",
    "            current_subject = match.group(1)\n",
    "            metadata[current_subject] = {}\n",
    "            continue\n",
    "    \n",
    "    frame_rate = raw_metadata.iloc[row, 8]\n",
    "\n",
    "    if isinstance(frame_rate, str) and frame_rate.isdigit():\n",
    "        description = raw_metadata.iloc[row, 2]\n",
    "        description = description if isinstance(description, str) else \"\"\n",
    "        index = raw_metadata.iloc[row, 1]\n",
    "        assert isinstance(current_subject, str)\n",
    "        assert isinstance(index, str)\n",
    "        metadata[current_subject][index] = MotionInfo(int(frame_rate), description)\n"
   ]
  },
  {
   "cell_type": "code",
   "execution_count": 14,
   "metadata": {},
   "outputs": [],
   "source": [
    "def to_target_frame_rate(motion: torch.Tensor, current_frame_rate: int, target_frame_rate, average: bool = False) -> torch.Tensor:\n",
    "    assert current_frame_rate >= target_frame_rate\n",
    "    if current_frame_rate == target_frame_rate:\n",
    "        return motion\n",
    "    factor = current_frame_rate // target_frame_rate\n",
    "    idx = torch.arange(0, len(motion), factor)\n",
    "    if average:\n",
    "        return torch.stack([motion[i: min(len(motion), i + factor)].mean(0)  for i in idx])\n",
    "    else: \n",
    "        return motion[idx]\n"
   ]
  },
  {
   "cell_type": "code",
   "execution_count": 15,
   "metadata": {},
   "outputs": [],
   "source": [
    "data = []\n",
    "for root, dirs, files in os.walk(os.path.join(data_dir, \"05\")):\n",
    "    subject = str(int(os.path.basename(root))) if os.path.basename(root).isdigit() else root\n",
    "    for file in files:\n",
    "        if file.endswith('.amc'):\n",
    "            index = str(int(file.split(\".\")[0].split(\"_\")[1]))\n",
    "            if subject not in metadata or index not in metadata[subject]:\n",
    "                continue\n",
    "            motion_info = metadata[subject][index]\n",
    "            motion_data = to_tensor(parse_motion_file(os.path.join(root, file)))\n",
    "            motion_data = to_target_frame_rate(motion_data, motion_info.frame_rate, config.frame_rate, average=True)\n",
    "            if len(motion_data)  < config.block_size + 1:\n",
    "                continue # not enough frames to make a block\n",
    "            idx = torch.randint(0, (len(motion_data) - (config.block_size + 1)) + 1, (max(1, len(motion_data) // config.block_size),))\n",
    "            data.extend([motion_data[i: i + config.block_size + 1] for i in idx])\n",
    "\n",
    "\n",
    "data = torch.stack(data)\n"
   ]
  },
  {
   "cell_type": "code",
   "execution_count": null,
   "metadata": {},
   "outputs": [],
   "source": [
    "torch.save(data, \"data.bin\")"
   ]
  },
  {
   "cell_type": "code",
   "execution_count": 16,
   "metadata": {},
   "outputs": [
    {
     "data": {
      "text/plain": [
       "torch.Size([20, 51, 56])"
      ]
     },
     "execution_count": 16,
     "metadata": {},
     "output_type": "execute_result"
    }
   ],
   "source": [
    "assert isinstance(data, torch.Tensor)\n",
    "data.shape"
   ]
  },
  {
   "cell_type": "code",
   "execution_count": null,
   "metadata": {},
   "outputs": [],
   "source": [
    "torch.save(metadata, \"metadata.bin\")"
   ]
  },
  {
   "cell_type": "code",
   "execution_count": null,
   "metadata": {},
   "outputs": [],
   "source": [
    "data[0].shape"
   ]
  }
 ],
 "metadata": {
  "kernelspec": {
   "display_name": "research",
   "language": "python",
   "name": "python3"
  },
  "language_info": {
   "codemirror_mode": {
    "name": "ipython",
    "version": 3
   },
   "file_extension": ".py",
   "mimetype": "text/x-python",
   "name": "python",
   "nbconvert_exporter": "python",
   "pygments_lexer": "ipython3",
   "version": "3.12.3"
  }
 },
 "nbformat": 4,
 "nbformat_minor": 2
}
