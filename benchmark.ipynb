{
 "cells": [
  {
   "cell_type": "code",
   "execution_count": null,
   "metadata": {},
   "outputs": [],
   "source": [
    "import torch\n",
    "from torch import nn\n",
    "from scipy.linalg import sqrtm\n",
    "import numpy as np\n",
    "from model import  RotationType\n",
    "from pathlib import Path\n",
    "from rotation_conversions import axis_angle_to_matrix, matrix_to_rotation_6d\n",
    "from model import Encoder, FeedFowardBlock"
   ]
  },
  {
   "cell_type": "code",
   "execution_count": null,
   "metadata": {},
   "outputs": [],
   "source": [
    "num_joints = 22\n",
    "rotation_type = RotationType.ZHOU_6D\n",
    "block_size = 75\n",
    "batch_size = 64\n",
    "feature_length = 135\n",
    "timesteps = 300"
   ]
  },
  {
   "cell_type": "code",
   "execution_count": null,
   "metadata": {},
   "outputs": [],
   "source": [
    "def load(path):\n",
    "    data = torch.load(path)\n",
    "    data['poses'] = matrix_to_rotation_6d(axis_angle_to_matrix(data['poses']))\n",
    "    data = torch.cat([data['trans'], data['poses'].reshape(*data['trans'].shape[:2], 22 * 6)], dim=-1)\n",
    "    return data\n"
   ]
  },
  {
   "cell_type": "code",
   "execution_count": null,
   "metadata": {},
   "outputs": [],
   "source": [
    "cmu = load('data_prepared/CMU.pt')\n",
    "bml = load('data_prepared/BLMrub.pt')\n",
    "ddb= load('data_prepared/DanceDB.pt')\n",
    "mpi = load('data_prepared/MPI_Limits.pt')\n",
    "sfu = load('data_prepared/SFU.pt')"
   ]
  },
  {
   "cell_type": "code",
   "execution_count": null,
   "metadata": {},
   "outputs": [],
   "source": [
    "import torch.nn as nn\n",
    "import torch.optim as optim\n",
    "from torch.utils.data import TensorDataset, DataLoader\n",
    "\n",
    "batch_size = 32\n",
    "input_features = 135  \n",
    "sequence_length = 75\n",
    "extracted_features = 256  \n",
    "\n",
    "class FeatureExtractor(nn.Module):\n",
    "    def __init__(self, input_features, sequence_length, extracted_features):\n",
    "        super(FeatureExtractor, self).__init__()\n",
    "\n",
    "        self.proj_in = FeedFowardBlock(135, 256, extracted_features, 0.1)\n",
    "        self.encoder2 = Encoder(4, extracted_features, 256, extracted_features, 4, 0.1)\n",
    "        self.positional_embedding = nn.Embedding(\n",
    "            block_size, extracted_features) \n",
    "        self.proj_out = FeedFowardBlock(extracted_features, 256,extracted_features, 0.1)\n",
    "        \n",
    "        self.decoder = nn.Sequential(\n",
    "            nn.Linear(extracted_features, 64 * (sequence_length // 4)),\n",
    "            nn.Unflatten(1, (64, sequence_length // 4)),\n",
    "            nn.ConvTranspose1d(64, 32, 1),\n",
    "            nn.ReLU(),\n",
    "            nn.ConvTranspose1d(32, input_features, 1),\n",
    "            nn.ReLU(),\n",
    "            nn.Flatten(),\n",
    "            nn.LazyLinear(input_features * sequence_length)\n",
    "        )\n",
    "\n",
    "        self.feature_length = input_features\n",
    "        self.sequence_length = sequence_length\n",
    "\n",
    "    @torch.no_grad()\n",
    "    def encode(self, x):\n",
    "        x = self.proj_in(x) + self.positional_embedding(torch.arange(block_size, device=x.device))\n",
    "        x = self.encoder2(x)\n",
    "        x = self.proj_out(x)\n",
    "        return x[:, -1, :]\n",
    "\n",
    "    def forward(self, x):\n",
    "\n",
    "        x = self.proj_in(x) + self.positional_embedding(torch.arange(block_size, device=x.device))\n",
    "        x = self.encoder2(x)\n",
    "        x = self.proj_out(x)\n",
    "        x = x[:, -1, :]\n",
    "\n",
    "        reconstructed = self.decoder(x)\n",
    "\n",
    "        reconstructed = reconstructed.reshape(reconstructed.shape[0], self.feature_length, self.sequence_length)\n",
    "        return reconstructed.permute(0, 2, 1)\n",
    "\n",
    "model = FeatureExtractor(input_features, sequence_length, extracted_features).to('cuda')\n",
    "model.load_state_dict(torch.load('feature_extractor.pt', map_location='cpu'))\n",
    "criterion = nn.MSELoss()\n",
    "optimizer = optim.AdamW(model.parameters(), lr=0.001)\n",
    "\n",
    "dataset = TensorDataset(torch.cat([cmu, bml, ddb, mpi, sfu]).to('cuda'))\n",
    "\n",
    "dataloader = DataLoader(dataset, batch_size=64)\n"
   ]
  },
  {
   "cell_type": "code",
   "execution_count": null,
   "metadata": {},
   "outputs": [],
   "source": [
    "num_epochs = 200\n",
    "model.train()\n",
    "for epoch in range(num_epochs):\n",
    "    for batch in dataloader:\n",
    "        data = batch[0]\n",
    "        optimizer.zero_grad()\n",
    "        outputs = model(data)\n",
    "        loss = criterion(outputs, data)\n",
    "        loss.backward()\n",
    "        optimizer.step()\n",
    "\n",
    "    print(f'Epoch [{epoch+1}/{num_epochs}], Loss: {loss.item():.4f}')"
   ]
  },
  {
   "cell_type": "code",
   "execution_count": null,
   "metadata": {},
   "outputs": [],
   "source": [
    "torch.save(model.state_dict(), 'feature_extractor.pt')"
   ]
  },
  {
   "cell_type": "code",
   "execution_count": null,
   "metadata": {},
   "outputs": [],
   "source": [
    "feature_extractor = FeatureExtractor(input_features, sequence_length, extracted_features).to('cuda')\n",
    "feature_extractor.load_state_dict(torch.load('feature_extractor.pt', map_location='cpu'))"
   ]
  },
  {
   "cell_type": "code",
   "execution_count": null,
   "metadata": {},
   "outputs": [],
   "source": [
    "\n",
    "@torch.no_grad()\n",
    "def extract_features(x):\n",
    "    feature_extractor.eval()\n",
    "    return feature_extractor.encode(x.to('cuda'))\n",
    "\n",
    "def calculate_activation_statistics(motions: torch.Tensor):\n",
    "    m = extract_features(motions)\n",
    "    mean = m.mean(0)\n",
    "    cov = m.T.cov()\n",
    "    return mean, cov\n",
    "\n",
    "def calculate_frechet_distance(mu1, sigma1, mu2, sigma2, eps=1e-6):\n",
    "    diff = mu1 - mu2\n",
    "\n",
    "    covmean, _ = sqrtm(sigma1.dot(sigma2), disp=False)\n",
    "\n",
    "    if np.iscomplexobj(covmean):\n",
    "        covmean = covmean.real\n",
    "\n",
    "    tr_covmean = np.trace(covmean)\n",
    "\n",
    "    fid = diff.dot(diff) + np.trace(sigma1) + np.trace(sigma2) - 2 * tr_covmean\n",
    "\n",
    "    return fid\n",
    "def fid(real: torch.Tensor, generated: torch.Tensor) -> float:\n",
    "\n",
    "    mu1, sigma1 = calculate_activation_statistics(real)\n",
    "    mu2, sigma2 = calculate_activation_statistics(generated)\n",
    "\n",
    "    return calculate_frechet_distance(mu1.cpu().numpy(), sigma1.cpu().numpy(), mu2.cpu().numpy(), sigma2.cpu().numpy())\n"
   ]
  },
  {
   "cell_type": "code",
   "execution_count": null,
   "metadata": {},
   "outputs": [],
   "source": [
    "prediction = load('prediction_mpi_20.pt')"
   ]
  },
  {
   "cell_type": "code",
   "execution_count": null,
   "metadata": {},
   "outputs": [],
   "source": [
    "#fid\n",
    "scores = []\n",
    "\n",
    "data = sfu # real source\n",
    "\n",
    "for i in range(20):\n",
    "    size = 200\n",
    "    real = data[torch.randperm(len(data))[:size]]\n",
    "    real2 = data[torch.randperm(len(data))[:size]]\n",
    "    generated = prediction[torch.randperm(len(prediction))[:size]]\n",
    "\n",
    "    scores.append(fid(real, generated))\n",
    "\n",
    "scores = torch.tensor(scores)\n",
    "\n",
    "scores.mean(), scores.std()"
   ]
  },
  {
   "cell_type": "code",
   "execution_count": null,
   "metadata": {},
   "outputs": [],
   "source": [
    "#diversity\n",
    "scores = []\n",
    "\n",
    "data = cmu\n",
    "\n",
    "for i in range(20):\n",
    "    size = 1000\n",
    "    real = data[torch.randperm(len(data))[:size]]\n",
    "    real2 = data[torch.randperm(len(data))[:size]]\n",
    "    generated = prediction[torch.randperm(len(prediction))[:size]]\n",
    "    generated2 = prediction[torch.randperm(len(prediction))[:size]]\n",
    "    \n",
    "    out = torch.norm(extract_features(generated) - extract_features(generated2),p=2, dim=1)\n",
    "\n",
    "    scores.append(out.mean())\n",
    "\n",
    "scores = torch.tensor(scores)\n",
    "\n",
    "scores.mean(), scores.std()"
   ]
  },
  {
   "cell_type": "code",
   "execution_count": null,
   "metadata": {},
   "outputs": [],
   "source": [
    "#multimodality\n",
    "scores = []\n",
    "\n",
    "data = cmu\n",
    "\n",
    "for i in range(20):\n",
    "    shape = prediction.shape\n",
    "    generated = torch.stack(prediction.chunk(10, dim=0))\n",
    "\n",
    "    first = generated[torch.randperm(10)].reshape(shape)\n",
    "    second = generated[ torch.randperm(10)].reshape(shape)\n",
    "    out = torch.norm(extract_features(first) - extract_features(second), p=2, dim=-1)\n",
    "\n",
    "    scores.append(out.mean())\n",
    "\n",
    "scores = torch.tensor(scores)\n",
    "\n",
    "scores.mean(), scores.std()"
   ]
  }
 ],
 "metadata": {
  "kernelspec": {
   "display_name": "research",
   "language": "python",
   "name": "python3"
  },
  "language_info": {
   "codemirror_mode": {
    "name": "ipython",
    "version": 3
   },
   "file_extension": ".py",
   "mimetype": "text/x-python",
   "name": "python",
   "nbconvert_exporter": "python",
   "pygments_lexer": "ipython3",
   "version": "3.12.3"
  }
 },
 "nbformat": 4,
 "nbformat_minor": 2
}
