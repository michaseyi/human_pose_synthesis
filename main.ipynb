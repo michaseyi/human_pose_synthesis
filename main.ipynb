{
 "cells": [
  {
   "cell_type": "code",
   "execution_count": 1,
   "metadata": {},
   "outputs": [
    {
     "name": "stdout",
     "output_type": "stream",
     "text": [
      "pygame 2.5.2 (SDL 2.28.2, Python 3.12.3)\n",
      "Hello from the pygame community. https://www.pygame.org/contribute.html\n"
     ]
    }
   ],
   "source": [
    "import torch\n",
    "from model import PoseFlowModel\n",
    "from train import Trainer\n",
    "from utils.dataset_gen import generate_dataset\n",
    "from viewer.viewer import Viewer\n",
    "from viewer.amc_parser import parse_asf\n",
    "from utils.parser import parse_motion_file\n",
    "from utils.preprocessing import downsample_motion, tensor_to_motion_frames, motion_frames_to_tensor\n",
    "from data import metadata"
   ]
  },
  {
   "cell_type": "code",
   "execution_count": 2,
   "metadata": {},
   "outputs": [],
   "source": [
    "batch_size = 64\n",
    "block_size = 30\n",
    "frame_rate = 15\n",
    "dataset_path = \"dataset.bin\"\n",
    "checkpoint_path = \"checkpoint.pth\"\n",
    "device = 'cuda' if torch.cuda.is_available() else 'cpu'\n",
    "\n",
    "device = 'cpu'\n"
   ]
  },
  {
   "cell_type": "code",
   "execution_count": 24,
   "metadata": {},
   "outputs": [
    {
     "name": "stderr",
     "output_type": "stream",
     "text": [
      "Exception ignored in: <bound method IPythonKernel._clean_thread_parent_frames of <ipykernel.ipkernel.IPythonKernel object at 0x718e78c954c0>>\n",
      "Traceback (most recent call last):\n",
      "  File \"/home/michaseyi/research/lib/python3.12/site-packages/ipykernel/ipkernel.py\", line 801, in _clean_thread_parent_frames\n",
      "    for identity in list(thread_to_parent.keys()):\n",
      "                         ^^^^^^^^^^^^^^^^^^^^^^^\n",
      "KeyboardInterrupt: \n"
     ]
    }
   ],
   "source": [
    "dataset = generate_dataset('data/subjects/01', block_size, frame_rate).to(torch.float32)\n",
    "torch.save(dataset, dataset_path)"
   ]
  },
  {
   "cell_type": "code",
   "execution_count": 3,
   "metadata": {},
   "outputs": [
    {
     "data": {
      "text/plain": [
       "4701396"
      ]
     },
     "execution_count": 3,
     "metadata": {},
     "output_type": "execute_result"
    }
   ],
   "source": [
    "model = PoseFlowModel(block_size=block_size, pose_embd=228, block_embd=176, num_layers=12, num_heads=8, dropout=0.2, device=device).to(device)\n",
    "model.parameter_count()"
   ]
  },
  {
   "cell_type": "code",
   "execution_count": 4,
   "metadata": {},
   "outputs": [
    {
     "name": "stdout",
     "output_type": "stream",
     "text": [
      "Loading checkpoint from checkpoint.pth:\n",
      "Epoch 803: train loss - 0.019386590899457188, val loss - 0.01945284143628844\n"
     ]
    }
   ],
   "source": [
    "trainer = Trainer(model, dataset_path, checkpoint_path, device=device, early_stopper_patience=30)"
   ]
  },
  {
   "cell_type": "code",
   "execution_count": null,
   "metadata": {},
   "outputs": [],
   "source": [
    "trainer.train()"
   ]
  },
  {
   "cell_type": "code",
   "execution_count": 50,
   "metadata": {},
   "outputs": [],
   "source": [
    "skeleton = parse_asf('data/subjects/05/05.asf')\n",
    "motion = parse_motion_file('data/subjects/05/05_02.amc')\n",
    "motion.frame_rate = metadata['5']['3'].frame_rate\n",
    "motion = downsample_motion(motion, frame_rate)\n",
    "motion_tensor = motion_frames_to_tensor(motion.frames)"
   ]
  },
  {
   "cell_type": "code",
   "execution_count": 29,
   "metadata": {},
   "outputs": [],
   "source": [
    "start_motion = motion_tensor[50: 50 + block_size].clone().detach().to(device).to(torch.float32)\n",
    "\n",
    "model.eval()\n",
    "generated_motion = []\n",
    "with torch.no_grad():\n",
    "    for (pose, _) in zip(model.stream(start_motion.unsqueeze(0).to(device)), range(block_size * 10)):\n",
    "        generated_motion.append(pose)\n",
    "generated_motion = torch.cat(generated_motion)"
   ]
  },
  {
   "cell_type": "code",
   "execution_count": 25,
   "metadata": {},
   "outputs": [],
   "source": [
    "b = motion.frames[0]['root']\n",
    "real_generated_frames = tensor_to_motion_frames(torch.cat([start_motion, generated_motion], dim=0).to(torch.double), [0.0, 0.0, 0.0], b[3:])"
   ]
  },
  {
   "cell_type": "code",
   "execution_count": 51,
   "metadata": {},
   "outputs": [],
   "source": [
    "b = motion.frames[0]['root']\n",
    "m = tensor_to_motion_frames(motion_tensor, [0, 10, 0], b[3:])\n",
    "view = Viewer(skeleton,  motion.frames)   \n",
    "view.run()"
   ]
  }
 ],
 "metadata": {
  "kernelspec": {
   "display_name": "research",
   "language": "python",
   "name": "python3"
  },
  "language_info": {
   "codemirror_mode": {
    "name": "ipython",
    "version": 3
   },
   "file_extension": ".py",
   "mimetype": "text/x-python",
   "name": "python",
   "nbconvert_exporter": "python",
   "pygments_lexer": "ipython3",
   "version": "3.12.3"
  }
 },
 "nbformat": 4,
 "nbformat_minor": 2
}
