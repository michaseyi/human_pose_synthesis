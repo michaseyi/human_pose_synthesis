{
 "cells": [
  {
   "cell_type": "code",
   "execution_count": 1,
   "metadata": {},
   "outputs": [],
   "source": [
    "from utils.asf_parser import parse_asf\n",
    "from utils.plot_skeleton import plot_skeleton\n",
    "from utils.amc_parser import parse_motion_file, Motion\n",
    "from utils.set_motion import set_motion, MotionFrame\n",
    "from utils.skeleton import Skeleton\n",
    "import matplotlib.pyplot as plt\n",
    "from matplotlib.pyplot import Axes\n",
    "import numpy as np\n",
    "plt.rcParams['font.family'] = 'Jetbrains Mono'\n",
    "plt.style.use('bmh')"
   ]
  },
  {
   "cell_type": "code",
   "execution_count": null,
   "metadata": {},
   "outputs": [],
   "source": [
    "skeleton = parse_asf(\"all_asfamc/subjects/22/22.asf\")\n",
    "motion = parse_motion_file(\"all_asfamc/subjects/22/22_09.amc\")"
   ]
  },
  {
   "cell_type": "code",
   "execution_count": null,
   "metadata": {},
   "outputs": [],
   "source": [
    "set_motion(skeleton, motion.frames[0])\n",
    "\n",
    "fig = plt.figure(figsize=(10, 10))\n",
    "plot_skeleton(skeleton, fig.add_subplot(111, projection='3d'))"
   ]
  },
  {
   "cell_type": "code",
   "execution_count": null,
   "metadata": {},
   "outputs": [],
   "source": [
    "max_bone_influence = 4 # influence from 1 parent bone and 3 child bones, should be padded with zeros if a bone has not parent or less than 3 children\n",
    "context_window = 50 # the number of past frames to use as context\n",
    "bone_feature_count = 3 # 3 for euler orientation data\n",
    "shape = (max_bone_influence + 1, context_window , bone_feature_count)\n",
    "\n",
    "def get_bone_euler_orientation(bone: str, frame: MotionFrame, skeleton: Skeleton):\n",
    "    bone_motion = frame.get(bone)\n",
    "\n",
    "    bone_data = skeleton.bone_map.get(bone)\n",
    "    assert bone_data is not None\n",
    "    orientation  = np.zeros(3)\n",
    "    if bone_motion is None:\n",
    "        return orientation\n",
    "    \n",
    "\n",
    "    if bone == \"root\":\n",
    "        orientation[0] = bone_motion[3]\n",
    "        orientation[1] = bone_motion[4]\n",
    "        orientation[2] = bone_motion[5]\n",
    "    else:\n",
    "        for i, dof in enumerate(bone_data.dof):\n",
    "            orientation[dof] = bone_motion[i]\n",
    "\n",
    "    return np.deg2rad(orientation)\n",
    "\n",
    "\n",
    "def extract_bone_features(bone: str, motion: Motion, start_index: int, skeleton: Skeleton):\n",
    "    # shape = (5, 3, 20)\n",
    "    bone_features = np.zeros(shape)\n",
    "\n",
    "    bone_data = skeleton.bone_map[bone]\n",
    "    assert bone_data is not None\n",
    "\n",
    "    parent_bone = bone_data.parent\n",
    "\n",
    "    if (parent_bone is not None):\n",
    "         bone_features[0] = np.vstack([np.array(get_bone_euler_orientation(parent_bone.name, motion.frames[start_index + i], skeleton)) for i in range(context_window)])\n",
    "    \n",
    "    bone_features[1] = np.vstack([np.array(get_bone_euler_orientation(bone, motion.frames[start_index + i], skeleton)) for i in range(context_window)])\n",
    "\n",
    "    for index, child in enumerate(bone_data.children):\n",
    "        bone_features[2 + index] = np.vstack([np.array(get_bone_euler_orientation(child.name, motion.frames[start_index + i], skeleton)) for i in range(context_window)])\n",
    "    return bone_features \n",
    "\n"
   ]
  },
  {
   "cell_type": "code",
   "execution_count": null,
   "metadata": {},
   "outputs": [],
   "source": [
    "extract_bone_features(\"rhumerus\", motion, 0, skeleton).shape"
   ]
  },
  {
   "cell_type": "markdown",
   "metadata": {},
   "source": [
    "Couple of things to note about the data\n",
    "\n",
    "* The motion is captured at very high frame rates, 60 - 120 fps. This means that to observe a significant change, one would need to obvserve a lot of frames, which can be computationally expensive. One way to resolve this is to use a lower frame rate, say 4 fps. So, we would downsample the data across time domain using rolling averages to get to the target fps. For example, if initially we have 120fps, we would use a window size of 120 / 4 frames to get to 4 fps. This would make the data more manageable and would still capture the motion.\n",
    "\n"
   ]
  },
  {
   "cell_type": "code",
   "execution_count": null,
   "metadata": {},
   "outputs": [],
   "source": [
    "def add_motion_frame(dst: MotionFrame, src: MotionFrame):\n",
    "    for key in src.keys():\n",
    "        dst[key] = [d + s for d, s in zip(dst[key], src[key])]\n",
    "\n",
    "def divide_motion_frame(dst: MotionFrame, divisor: int):\n",
    "    for key in dst.keys():\n",
    "        dst[key] = [d / divisor for d in dst[key]]"
   ]
  },
  {
   "cell_type": "code",
   "execution_count": null,
   "metadata": {},
   "outputs": [],
   "source": [
    "def blank_motion_frame(sample_frame: MotionFrame) -> MotionFrame:\n",
    "    return {key: [0] * len(sample_frame[key])    for key in sample_frame.keys()}"
   ]
  },
  {
   "cell_type": "code",
   "execution_count": null,
   "metadata": {},
   "outputs": [],
   "source": [
    "def downsample_motion(raw_motion: Motion, target_frame_rate: int, use_average: bool=True) -> Motion:\n",
    "    assert target_frame_rate > 0 and target_frame_rate <= raw_motion.frame_rate\n",
    "    downsampled_motion = Motion()\n",
    "    downsampled_motion.frame_rate = target_frame_rate\n",
    "    \n",
    "    downsample_factor = raw_motion.frame_rate // target_frame_rate\n",
    "    \n",
    "    for start_frame_index in range(0, len(raw_motion.frames), downsample_factor):\n",
    "        motion_frame = blank_motion_frame(raw_motion.frames[start_frame_index])\n",
    "\n",
    "        if use_average:\n",
    "            total_frames = 0\n",
    "            for frame_index in range(start_frame_index, min(start_frame_index + downsample_factor, len(raw_motion.frames))):\n",
    "                total_frames += 1\n",
    "                add_motion_frame(motion_frame, raw_motion.frames[frame_index])\n",
    "                pass\n",
    "            divide_motion_frame(motion_frame, total_frames)\n",
    "        else:\n",
    "            add_motion_frame(motion_frame, raw_motion.frames[start_frame_index])\n",
    "        downsampled_motion.frames.append(motion_frame)\n",
    "        pass\n",
    "\n",
    "    return downsampled_motion\n"
   ]
  },
  {
   "cell_type": "code",
   "execution_count": null,
   "metadata": {},
   "outputs": [],
   "source": [
    "def smooth_motion(raw_motion: Motion, window_size: int) -> Motion:\n",
    "    smoothed_motion = Motion()\n",
    "    smoothed_motion.frame_rate = raw_motion.frame_rate\n",
    "\n",
    "    for motion_frame_index, motion_frame in enumerate(raw_motion.frames):\n",
    "        smoothed_frame = blank_motion_frame(motion_frame)\n",
    "        total_frame_count = 0\n",
    "        for frame in raw_motion.frames[max(0, motion_frame_index - window_size): motion_frame_index + 1]:\n",
    "            total_frame_count += 1\n",
    "            add_motion_frame(smoothed_frame, frame)\n",
    "        divide_motion_frame(smoothed_frame, total_frame_count)\n",
    "        smoothed_motion.frames.append(smoothed_frame)\n",
    "    return smoothed_motion\n"
   ]
  },
  {
   "cell_type": "code",
   "execution_count": null,
   "metadata": {},
   "outputs": [],
   "source": [
    "def plot_bone_motion_graph(bone_name: str, motion_frames: list[MotionFrame], skeleton: Skeleton, ax: Axes):\n",
    "    plot_data = [[], [], []] # rx, ry, rz\n",
    "    for frame_index in motion_frames:\n",
    "        bone_motion = frame_index.get(bone_name)\n",
    "        bone_data = skeleton.bone_map.get(bone_name)\n",
    "\n",
    "        assert bone_data is not None\n",
    "        \n",
    "        if bone_motion is None:\n",
    "            break\n",
    "\n",
    "        if bone_name == \"root\":\n",
    "            for i, rot in enumerate(bone_motion[3:]):\n",
    "                plot_data[i].append(rot)\n",
    "        else:\n",
    "            for i, dof in enumerate(bone_data.dof):\n",
    "                plot_data[dof].append(bone_motion[i])\n",
    "\n",
    "    ax.plot(range(len(plot_data[0])) ,plot_data[0], label=\"rx\", color=\"red\", linewidth=1)\n",
    "    ax.plot(range(len(plot_data[1])) ,plot_data[1], label=\"ry\", color=\"green\", linewidth=1)\n",
    "    ax.plot(range(len(plot_data[2])) ,plot_data[2], label=\"rz\", color=\"blue\", linewidth=1)\n",
    "    ax.set_title('Motion Graph for ' + bone_name, fontsize=10)\n",
    "    ax.set_xlabel('Frame Number', fontsize=9)\n",
    "    ax.set_ylabel('Motion Value (Degrees)', fontsize=9)\n",
    "    ax.legend()\n",
    "    ax.grid(True)\n",
    "    "
   ]
  },
  {
   "cell_type": "code",
   "execution_count": null,
   "metadata": {},
   "outputs": [],
   "source": [
    "\n",
    "smoothed_motion = smooth_motion(motion, 20)\n",
    "downsampled_motion = downsample_motion(smoothed_motion, 15, use_average=False)\n",
    "bone_name = list(skeleton.bone_map.keys())[4]\n",
    "\n",
    "fig = plt.figure(figsize=(20, 40))\n",
    "\n",
    "for i, bone_name in enumerate(list(skeleton.bone_map.keys())):\n",
    "    ax = fig.add_subplot(8, 4, i + 1)\n",
    "    plot_bone_motion_graph(bone_name, smoothed_motion.frames, skeleton, ax)\n",
    "\n",
    "plt.show()"
   ]
  },
  {
   "cell_type": "code",
   "execution_count": null,
   "metadata": {},
   "outputs": [],
   "source": [
    "fig = plt.figure(figsize=(20, 40))\n",
    "time = 3 #s\n",
    "set_motion(skeleton, motion.frames[int(motion.frame_rate * time)])\n",
    "plot_skeleton(skeleton, fig.add_subplot(121, projection='3d'))\n",
    "set_motion(skeleton, smoothed_motion.frames[int(smoothed_motion.frame_rate * time)])\n",
    "plot_skeleton(skeleton, fig.add_subplot(122, projection='3d'))\n",
    "\n",
    "plt.show()"
   ]
  },
  {
   "cell_type": "markdown",
   "metadata": {},
   "source": [
    "`base_pose` references  01.asf and it is selected as the pose the output of our model will be applied to.\n",
    "It will be used to correct the motion data for motion frames with slightly different base poses."
   ]
  },
  {
   "cell_type": "code",
   "execution_count": null,
   "metadata": {},
   "outputs": [],
   "source": [
    "base_pose = {\n",
    "    \"lhipjoint\": [0.566809, -0.746272, 0.349008],\n",
    "    \"lfemur\": [0.34202, -0.939693, 0],\n",
    "    \"ltibia\": [0.34202, -0.939693, 0],\n",
    "    \"lfoot\": [0.0665746, -0.182912, 0.980873],\n",
    "    \"ltoes\": [1.53601e-011, -4.22058e-011, 1],\n",
    "    \"rhipjoint\": [-0.550236, -0.756381, 0.353735],\n",
    "    \"rfemur\": [-0.34202, -0.939693, 0],\n",
    "    \"rtibia\": [-0.34202, -0.939693, 0],\n",
    "    \"rfoot\": [-0.0683029, -0.187661, 0.979856],\n",
    "    \"rtoes\": [-1.53528e-011, -4.21968e-011, 1],\n",
    "    \"lowerback\": [0.013823, 0.995423, -0.0945635],\n",
    "    \"upperback\": [0.0276657, 0.9994, -0.020853],\n",
    "    \"thorax\": [0.019782, 0.999531, 0.0233827],\n",
    "    \"lowerneck\": [-0.0308541, 0.994709, 0.0979874],\n",
    "    \"upperneck\": [0.0588398, 0.995804, -0.0700903],\n",
    "    \"head\": [0.0209966, 0.999159, -0.0352225],\n",
    "    \"lclavicle\": [0.938182, 0.335073, -0.0868338],\n",
    "    \"lhumerus\": [1, -4.48971e-011, -1.26313e-017],\n",
    "    \"lradius\": [1, -4.48948e-011, -5.89033e-027],\n",
    "    \"lwrist\": [1, -4.48977e-011, -1.48983e-026],\n",
    "    \"lhand\": [1, -4.49046e-011, -2.98066e-026],\n",
    "    \"lfingers\": [1, -4.48907e-011, -5.95731e-026],\n",
    "    \"lthumb\": [0.707107, -6.34963e-011, 0.707107],\n",
    "    \"rclavicle\": [-0.909637, 0.398485, -0.11735],\n",
    "    \"rhumerus\": [-1, -4.48978e-011, -1.09333e-027],\n",
    "    \"rradius\": [-1, -4.48953e-011, -7.61841e-027],\n",
    "    \"rwrist\": [-1, -4.48977e-011, -1.48983e-026],\n",
    "    \"rhand\": [-1, -4.49027e-011, -2.98038e-026],\n",
    "    \"rfingers\": [-1, -4.48838e-011, -5.95531e-026],\n",
    "    \"rthumb\": [-0.707107, -6.34937e-011, 0.707107]\n",
    "}\n"
   ]
  },
  {
   "cell_type": "code",
   "execution_count": 3,
   "metadata": {},
   "outputs": [
    {
     "name": "stdout",
     "output_type": "stream",
     "text": [
      "None\n"
     ]
    }
   ],
   "source": [
    "parse_asf('all_asfamc/subjects/01/01.asf').bone_map['rhipjoint'].limits"
   ]
  }
 ],
 "metadata": {
  "kernelspec": {
   "display_name": "research",
   "language": "python",
   "name": "python3"
  },
  "language_info": {
   "codemirror_mode": {
    "name": "ipython",
    "version": 3
   },
   "file_extension": ".py",
   "mimetype": "text/x-python",
   "name": "python",
   "nbconvert_exporter": "python",
   "pygments_lexer": "ipython3",
   "version": "3.12.3"
  }
 },
 "nbformat": 4,
 "nbformat_minor": 2
}
