{
 "cells": [
  {
   "cell_type": "code",
   "execution_count": 1,
   "metadata": {},
   "outputs": [],
   "source": [
    "import torch\n",
    "from model import PoseFlowModel\n",
    "from train import Trainer\n",
    "from utils.dataset_gen import generate_dataset"
   ]
  },
  {
   "cell_type": "code",
   "execution_count": 2,
   "metadata": {},
   "outputs": [
    {
     "name": "stderr",
     "output_type": "stream",
     "text": [
      "/home/michaseyi/research/lib/python3.12/site-packages/torch/cuda/__init__.py:118: UserWarning: CUDA initialization: CUDA unknown error - this may be due to an incorrectly set up environment, e.g. changing env variable CUDA_VISIBLE_DEVICES after program start. Setting the available devices to be zero. (Triggered internally at ../c10/cuda/CUDAFunctions.cpp:108.)\n",
      "  return torch._C._cuda_getDeviceCount() > 0\n"
     ]
    }
   ],
   "source": [
    "batch_size = 64\n",
    "block_size = 30\n",
    "frame_rate = 15\n",
    "dataset_path = \"dataset.bin\"\n",
    "checkpoint_path = \"checkpoint.pth\"\n",
    "device = 'cuda' if torch.cuda.is_available() else 'cpu'"
   ]
  },
  {
   "cell_type": "code",
   "execution_count": 3,
   "metadata": {},
   "outputs": [],
   "source": [
    "dataset = generate_dataset('data/subjects/03', block_size, frame_rate).to(torch.float32)\n",
    "torch.save(dataset, dataset_path)"
   ]
  },
  {
   "cell_type": "code",
   "execution_count": 4,
   "metadata": {},
   "outputs": [
    {
     "data": {
      "text/plain": [
       "4701396"
      ]
     },
     "execution_count": 4,
     "metadata": {},
     "output_type": "execute_result"
    }
   ],
   "source": [
    "model = PoseFlowModel(block_size=block_size, pose_embd=228, block_embd=176, num_layers=12, num_heads=8, dropout=0.2, device=device).to(device)\n",
    "model.parameter_count()"
   ]
  },
  {
   "cell_type": "code",
   "execution_count": 4,
   "metadata": {},
   "outputs": [
    {
     "name": "stdout",
     "output_type": "stream",
     "text": [
      "Loading checkpoint from checkpoint.pth:\n",
      "Epoch 351: train loss - 0.04310416616499424, val loss - 0.0478162057697773\n"
     ]
    }
   ],
   "source": [
    "trainer = Trainer(model, dataset_path, checkpoint_path, device=device, early_stopper_patience=30)"
   ]
  },
  {
   "cell_type": "code",
   "execution_count": null,
   "metadata": {},
   "outputs": [],
   "source": [
    "trainer.train()"
   ]
  },
  {
   "cell_type": "code",
   "execution_count": 11,
   "metadata": {},
   "outputs": [
    {
     "data": {
      "text/plain": [
       "tensor([ 5.6816e-02,  1.3878e-01,  1.1112e+00,  8.7722e-01,  2.6252e-02,\n",
       "         2.1938e-02,  3.0306e-03,  9.0602e-01, -8.6838e-03, -1.9696e-02,\n",
       "        -1.5274e-02,  9.0240e-01,  9.3487e-01,  7.8271e-02, -1.6674e-02,\n",
       "        -2.5455e-02,  8.9017e-01, -1.2347e-01, -4.8601e-03,  1.1083e-01,\n",
       "         8.8709e-01,  9.1080e-01,  1.5431e-01,  1.6426e-02, -9.9097e-02,\n",
       "         8.9074e-01, -4.5052e-02,  3.1884e-02,  6.3665e-02,  9.0677e-01,\n",
       "         9.0725e-01,  8.9108e-02,  3.6339e-02, -8.4890e-02,  8.7253e-01,\n",
       "         6.7155e-02,  2.0921e-02, -2.8134e-02,  9.1106e-01,  8.9272e-01,\n",
       "        -1.6215e-01,  3.8544e-02,  9.8609e-02,  8.2344e-01,  3.0856e-01,\n",
       "        -1.3244e-01, -3.4298e-01,  8.1961e-01,  8.9574e-01,  9.0840e-02,\n",
       "         1.1563e-01, -7.0056e-02,  8.0768e-01, -4.3835e-01, -1.6512e-01,\n",
       "         4.2669e-01,  7.8570e-01,  9.1841e-01,  1.2417e-02,  7.1449e-02,\n",
       "        -2.0148e-02,  8.4352e-01, -2.1496e-01, -5.6007e-02,  2.2574e-01,\n",
       "         8.4164e-01,  9.0860e-01,  1.8211e-02, -3.3450e-02,  2.2601e-02,\n",
       "         9.4218e-01, -2.6519e-03,  9.8917e-04,  4.6461e-03,  9.2533e-01,\n",
       "        -1.0384e-01,  6.2993e-01,  6.1377e-01, -8.6079e-01,  4.0397e-02,\n",
       "        -1.5381e-01, -1.8101e-01, -6.2356e-01,  6.1627e-01,  9.0754e-01,\n",
       "        -7.9488e-03, -3.9651e-02, -1.2354e-02,  6.3868e-01, -6.0334e-01,\n",
       "        -1.0651e-02,  5.6919e-01,  6.6532e-01,  9.1009e-01,  1.2316e-02,\n",
       "         2.2699e-02, -3.6627e-02,  8.8585e-01,  2.2610e-02, -2.7527e-02,\n",
       "         4.5014e-03,  9.1071e-01,  8.3140e-01, -3.5823e-01, -9.2635e-02,\n",
       "         3.6398e-01,  8.4301e-01,  1.6210e-01, -1.9745e-02, -1.8437e-01,\n",
       "         9.1493e-01,  8.6687e-01, -1.9934e-02, -1.4072e-02,  3.4816e-02,\n",
       "         9.1408e-01, -1.7873e-02, -2.1131e-02,  3.8194e-03,  9.0710e-01,\n",
       "         3.5023e-01, -7.4298e-01, -3.9422e-01,  7.8953e-01,  2.8879e-01,\n",
       "         1.9283e-01, -4.2655e-02, -4.5858e-01,  7.5282e-01,  9.0834e-01,\n",
       "         4.0042e-03,  2.8961e-02,  2.5183e-02,  4.9751e-01, -6.6968e-01,\n",
       "        -2.6458e-02,  6.5800e-01,  4.6619e-01,  9.0894e-01,  4.4504e-03,\n",
       "         1.7619e-01, -3.8607e-02,  9.1653e-01, -2.9420e-02, -1.4655e-01,\n",
       "         8.4954e-03,  8.7374e-01,  8.6625e-01, -3.5728e-01, -1.6736e-01,\n",
       "         3.7470e-01,  7.4235e-01,  3.1788e-01,  2.0039e-03, -2.9225e-01,\n",
       "         8.6101e-01,  8.6759e-01, -1.4792e-01, -1.9190e-01,  2.2465e-01,\n",
       "         8.2566e-01,  3.0322e-01,  1.2367e-01, -3.7123e-01,  8.2247e-01,\n",
       "         9.1378e-01,  1.4941e-02,  1.4958e-02, -1.7612e-02,  2.6711e-01,\n",
       "        -7.0838e-01,  1.1597e-02,  7.0574e-01,  2.6111e-01,  9.1816e-01,\n",
       "        -1.4416e-01, -7.8912e-03,  8.8920e-02,  8.8444e-01, -7.6918e-01,\n",
       "        -1.7850e-02,  7.7563e-01,  9.1627e-01,  8.8892e-01, -2.6075e-02,\n",
       "        -2.5091e-03,  5.6265e-03,  7.7170e-01,  2.9806e-01,  3.1151e-03,\n",
       "        -2.5723e-01,  7.0745e-01,  8.4713e-01,  3.1330e-01,  1.7928e-01,\n",
       "        -2.9880e-01,  6.7008e-01,  4.6509e-01,  5.0212e-02, -4.5064e-01,\n",
       "         6.6649e-01,  8.9683e-01, -8.8783e-03, -2.6839e-02, -3.7368e-02,\n",
       "         3.6094e-01, -8.1309e-01,  2.0437e-03,  8.4531e-01,  2.4957e-01,\n",
       "         8.6776e-01,  2.2452e-01,  2.7566e-02, -2.5496e-01,  8.0409e-01,\n",
       "         4.8853e-01, -9.8956e-03, -4.6174e-01,  8.7662e-01,  9.0643e-01,\n",
       "        -1.1804e-02, -1.3136e-02,  4.8344e-03,  8.9238e-01,  8.2149e-02,\n",
       "         8.6621e-03, -2.4681e-02,  8.7830e-01], device='cuda:0',\n",
       "       grad_fn=<SelectBackward0>)"
      ]
     },
     "execution_count": 11,
     "metadata": {},
     "output_type": "execute_result"
    }
   ],
   "source": [
    "model.forward(torch.randn((1, 1, 228)).to(device))[0][0]"
   ]
  }
 ],
 "metadata": {
  "kernelspec": {
   "display_name": "research",
   "language": "python",
   "name": "python3"
  },
  "language_info": {
   "codemirror_mode": {
    "name": "ipython",
    "version": 3
   },
   "file_extension": ".py",
   "mimetype": "text/x-python",
   "name": "python",
   "nbconvert_exporter": "python",
   "pygments_lexer": "ipython3",
   "version": "3.12.3"
  }
 },
 "nbformat": 4,
 "nbformat_minor": 2
}
